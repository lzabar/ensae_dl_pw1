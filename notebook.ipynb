{
 "cells": [
  {
   "cell_type": "markdown",
   "id": "17ec8d6a-4218-49b9-a549-0977cec82967",
   "metadata": {
    "id": "MVpsYfWg3z0B"
   },
   "source": [
    "# PW1 - Handwritten character recognition\n"
   ]
  },
  {
   "cell_type": "code",
   "execution_count": 1,
   "id": "d682452d-e56e-4de8-a420-4418d63790a7",
   "metadata": {},
   "outputs": [],
   "source": [
    "# Write your name here (e.g. \"Edmond Dantès\") so I can grade your work\n",
    "your_name = \"Laure Zabar\"\n",
    "assert your_name"
   ]
  },
  {
   "cell_type": "code",
   "execution_count": 2,
   "id": "f8538cf7-81e0-481a-8059-be38b611aafb",
   "metadata": {
    "id": "8CcAqNjJ3z0F"
   },
   "outputs": [],
   "source": [
    "%matplotlib inline\n",
    "import math, sys, os, torch, torchvision\n",
    "from torch import nn\n",
    "import numpy as np\n",
    "import matplotlib.pyplot as plt"
   ]
  },
  {
   "cell_type": "code",
   "execution_count": 3,
   "id": "c864b86e-6e6b-4d8a-82c8-6822072a676f",
   "metadata": {
    "id": "3Wxb9pdV3z0F"
   },
   "outputs": [
    {
     "name": "stdout",
     "output_type": "stream",
     "text": [
      "Using gpu: True \n"
     ]
    }
   ],
   "source": [
    "device = torch.device(\"cuda:0\" if torch.cuda.is_available() else \"cpu\")\n",
    "print('Using gpu: %s ' % torch.cuda.is_available())"
   ]
  },
  {
   "cell_type": "markdown",
   "id": "aa038da6-b812-4053-9b72-8ff97ceb3b9b",
   "metadata": {
    "id": "1Sjq8zzf3z0G"
   },
   "source": [
    "We will be training many models. Select a number of epochs to train each model. If you are using a slow machine, or if you want to restart training often and have many development iterations, we suggest `NUM_EPOCH = 2`. If you are using a fast machine, or have a GPU available, of if you are confident that you can write accurate code first try, you will get better accuracies by increasing this constant. You could be able to afford up to `NUM_EPOCH = 10`."
   ]
  },
  {
   "cell_type": "code",
   "execution_count": 4,
   "id": "137adce6-13cc-4ccc-aaf3-42230e322a9b",
   "metadata": {
    "id": "L9CF0H4O3z0G"
   },
   "outputs": [],
   "source": [
    "NUM_EPOCH = 2\n",
    "BATCH_SIZE = 256"
   ]
  },
  {
   "cell_type": "markdown",
   "id": "6ce850e9-ef4e-4323-af2d-be6b94e98994",
   "metadata": {
    "id": "65e20f5e"
   },
   "source": [
    "# Part A - Linear, MLP, and CNN\n"
   ]
  },
  {
   "cell_type": "markdown",
   "id": "05aff4bd-8b1d-4531-89d8-64ce4e2b6357",
   "metadata": {
    "id": "KSAiV2ov3z0H"
   },
   "source": [
    "## Handwritten digit recognition dataset\n",
    "\n",
    "We will use the MNIST database (Modified National Institute of Standards and Technology database). It contains tens of thousands of pictures of handwritten digits. This database was compiled in 1994, as part of the effort in the 1990s to standardize automation of sorting devices with human input, for instance sorting mail with handwritten postal codes at the post office. This is now often considered one of the first real successes of neural networks, and the first easy example on which performance of new such algorithms is tested."
   ]
  },
  {
   "cell_type": "markdown",
   "id": "3429898a-0f57-4cdf-9aa6-7b1121ee4e53",
   "metadata": {},
   "source": [
    "Load the dataset (train and test splits) using `torchvision`"
   ]
  },
  {
   "cell_type": "code",
   "execution_count": 5,
   "id": "59e1c523-4b78-492a-b103-2861af8c3d89",
   "metadata": {
    "id": "Zu3hU4dQ3z0H"
   },
   "outputs": [],
   "source": [
    "root_dir = './data/MNIST/'\n",
    "\n",
    "### YOUR CODE HERE ###\n",
    "\n",
    "train = torchvision.datasets.MNIST(root_dir, train=True, download=True, transform=torchvision.transforms.ToTensor())\n",
    "test = torchvision.datasets.MNIST(root_dir, train=False, download=True, transform=torchvision.transforms.ToTensor())\n",
    "\n",
    "train_dataloader = torch.utils.data.DataLoader(train, batch_size=BATCH_SIZE, shuffle=True)\n",
    "test_dataloader = torch.utils.data.DataLoader(test, batch_size=BATCH_SIZE, shuffle=True)"
   ]
  },
  {
   "cell_type": "markdown",
   "id": "d77fbaba-b01f-46d0-a1d7-47c59faaf042",
   "metadata": {},
   "source": [
    "How many examples in each split? \n",
    "\n",
    "Plot the first image and label of the training set using `matplotlib`\n",
    "\n",
    "What is the input dimension?"
   ]
  },
  {
   "cell_type": "code",
   "execution_count": 6,
   "id": "42fea65a",
   "metadata": {},
   "outputs": [
    {
     "name": "stdout",
     "output_type": "stream",
     "text": [
      "Number of examples in training set: 60000\n",
      "Number of examples in test set: 10000\n"
     ]
    }
   ],
   "source": [
    "### YOUR CODE HERE ###\n",
    "print(f\"Number of examples in training set: {len(train)}\")\n",
    "print(f\"Number of examples in test set: {len(test)}\")"
   ]
  },
  {
   "cell_type": "code",
   "execution_count": 7,
   "id": "083f07f4-e129-4e9b-b26e-a32fd4bdb99d",
   "metadata": {
    "id": "9fgMls5P3z0I",
    "scrolled": true
   },
   "outputs": [
    {
     "name": "stdout",
     "output_type": "stream",
     "text": [
      "The target is : 5\n",
      "The input shape : torch.Size([1, 28, 28])\n"
     ]
    },
    {
     "data": {
      "image/png": "[encoded data removed]",
      "text/plain": [
       "<Figure size 640x480 with 1 Axes>"
      ]
     },
     "metadata": {},
     "output_type": "display_data"
    }
   ],
   "source": [
    "### YOUR CODE HERE ###\n",
    "train_image, train_label = train[0]\n",
    "plt.imshow(train_image[0], cmap = 'gray', interpolation=\"none\") \n",
    "print(f\"The target is : {train_label}\")\n",
    "print(f\"The input shape : {train_image.shape}\")"
   ]
  },
  {
   "cell_type": "code",
   "execution_count": 8,
   "id": "a1ac4303",
   "metadata": {},
   "outputs": [
    {
     "name": "stdout",
     "output_type": "stream",
     "text": [
      "Vérification normalisation : 0.0 1.0\n",
      "The target is : 0\n",
      "The input shape : torch.Size([1, 28, 28])\n"
     ]
    },
    {
     "data": {
      "image/png": "[encoded data removed]",
      "text/plain": [
       "<Figure size 640x480 with 1 Axes>"
      ]
     },
     "metadata": {},
     "output_type": "display_data"
    }
   ],
   "source": [
    "# avec ajout du train_dataloader\n",
    "train_image, train_label = next(iter(train_dataloader))\n",
    "print(\"Vérification normalisation :\", train_image.min().item(), train_image.max().item())  \n",
    "\n",
    "plt.imshow(train_image[0][0], cmap='gray', interpolation='none')\n",
    "print(f\"The target is : {train_label[0].item()}\")\n",
    "print(f\"The input shape : {train_image[0].shape}\")  "
   ]
  },
  {
   "cell_type": "markdown",
   "id": "f6380c03-1427-4dea-974e-5a38621ea6c1",
   "metadata": {
    "id": "Guv5_hY63z0L"
   },
   "source": [
    "# A.1 - Linear features\n",
    "\n",
    "We start with a very simple model, linear with respect to pixel values.\n",
    "Use a `preprocess` function to downsample the image to 7x7 pixels, then flatten it and use a `torch.nn.Linear` model.\n",
    "\n",
    "The torch average-pooling function is `torch.nn.functional.avg_pool2d`, check the documentation to set the arguments properly.\n",
    "DO NOT use your implementation of average-pooling, it would take prohibitively long to train and you would not finish the practical.\n",
    "If the training takes too long, go back to the first section and lower the `NUM_EPOCH` constant."
   ]
  },
  {
   "cell_type": "markdown",
   "id": "f2bb8e5d-7d84-4a59-aa5d-e942ffa22aa8",
   "metadata": {},
   "source": [
    "Again, use matplotlib to visualize an example of downsampling"
   ]
  },
  {
   "cell_type": "code",
   "execution_count": 9,
   "id": "ac111d5c-dfa2-44e2-9a57-f2f4c2caff2d",
   "metadata": {},
   "outputs": [],
   "source": [
    "### YOUR CODE HERE ###\n",
    "def preprocess (image):\n",
    "    return torch.nn.functional.avg_pool2d(image, kernel_size=4)"
   ]
  },
  {
   "cell_type": "code",
   "execution_count": 10,
   "id": "89964da3",
   "metadata": {},
   "outputs": [
    {
     "name": "stdout",
     "output_type": "stream",
     "text": [
      "Vérification normalisatuon: 0.0 0.9921569228172302\n",
      "The target is : 0\n",
      "The input shape : torch.Size([7, 7])\n"
     ]
    },
    {
     "data": {
      "image/png": "[encoded data removed]",
      "text/plain": [
       "<Figure size 640x480 with 1 Axes>"
      ]
     },
     "metadata": {},
     "output_type": "display_data"
    }
   ],
   "source": [
    "resize_image = preprocess(train_image)\n",
    "print(\"Vérification normalisatuon:\", resize_image.min().item(), resize_image.max().item())\n",
    "\n",
    "plt.imshow(resize_image[0][0], cmap = 'gray', interpolation='none')\n",
    "print(f\"The target is : {train_label[0].item()}\")\n",
    "print(f\"The input shape : {resize_image[0][0].shape}\")"
   ]
  },
  {
   "cell_type": "code",
   "execution_count": 11,
   "id": "6aa4adcb-be17-4f0d-ba9f-4da062227230",
   "metadata": {
    "id": "2v3GqEPU3z0L"
   },
   "outputs": [],
   "source": [
    "### YOUR ( MODEL / PREPROCESSING ) CODE HERE ###\n",
    "class LinearModel(nn.Module):\n",
    "    def __init__(self):\n",
    "        super().__init__()\n",
    "        self.linear = nn.Linear(49, 10) # 49 car on a downsampled à 7x7 && 10 classes de 0 à 9\n",
    "    def forward(self, x): \n",
    "        x = x.flatten(start_dim=1)\n",
    "        return self.linear(x)"
   ]
  },
  {
   "cell_type": "markdown",
   "id": "e5becae4-e27f-43ed-a1c5-ced8c16f4cac",
   "metadata": {
    "id": "qeWZ7DeNMG20"
   },
   "source": [
    "## A.2 - Loss and optimizer\n",
    "Create a cross entropy loss."
   ]
  },
  {
   "cell_type": "code",
   "execution_count": 12,
   "id": "a85b789e",
   "metadata": {
    "id": "a85b789e"
   },
   "outputs": [],
   "source": [
    "### YOUR CODE HERE ###\n",
    "loss = nn.CrossEntropyLoss()"
   ]
  },
  {
   "cell_type": "markdown",
   "id": "43aec31b-3d2b-4b29-ad85-e88a6e25660a",
   "metadata": {
    "id": "ZCnlsh9iMhx_"
   },
   "source": [
    "## A.3 - Training and testing loops\n",
    "Finally, create the functions `train(model, epoch, preprocess, optimizer)` and `test(model)` to train (one epoch with SGD and a learning rate of $10^{-3}$) and test your model."
   ]
  },
  {
   "cell_type": "code",
   "execution_count": 13,
   "id": "231d8e29",
   "metadata": {},
   "outputs": [],
   "source": [
    "def train(model, epoch, preprocess, optimizer):\n",
    "    model.train()\n",
    "    total, correct_pred = 0, 0\n",
    "    for images, labels in train_dataloader:\n",
    "        images, labels = images.to(device), labels.to(device)\n",
    "        downsamp = preprocess(images) \n",
    "        outputs  = model(downsamp)\n",
    "        loss_val = loss(outputs, labels)\n",
    "\n",
    "        optimizer.zero_grad()\n",
    "        loss_val.backward()\n",
    "        optimizer.step()\n",
    "\n",
    "        preds = outputs.argmax(dim=1)\n",
    "        correct_pred += (preds == labels).sum().item()\n",
    "        total += labels.size(0)\n",
    "\n",
    "    train_accuracy = correct_pred / total\n",
    "    print(f\"Epoch {epoch+1} - Train Accuracy: {train_accuracy:.4f}\")\n",
    "    return optimizer, train_accuracy\n",
    "\n",
    "def test(model, preprocess):\n",
    "    model.eval()\n",
    "    total, correct_pred = 0, 0\n",
    "    with torch.no_grad():\n",
    "        for images, labels in test_dataloader:\n",
    "            images, labels = images.to(device), labels.to(device)\n",
    "            downsamp = preprocess(images)\n",
    "            outputs = model(downsamp)\n",
    "            preds = outputs.argmax(dim=1)\n",
    "            correct_pred += (preds == labels).sum().item()\n",
    "            total += labels.size(0)\n",
    "\n",
    "    test_accuracy = correct_pred / total\n",
    "    print(f\"Test Accuracy: {test_accuracy:.4f}\")\n",
    "    return test_accuracy"
   ]
  },
  {
   "cell_type": "markdown",
   "id": "e51e20f1",
   "metadata": {},
   "source": [
    "You should get at least 85\\% test accuracy even with only 2 epochs. We will be aiming for around 95\\% test accuracy and above."
   ]
  },
  {
   "cell_type": "code",
   "execution_count": 230,
   "id": "731f242d",
   "metadata": {},
   "outputs": [
    {
     "name": "stdout",
     "output_type": "stream",
     "text": [
      "Epoch 1 - Train Accuracy: 0.7563\n",
      "Test Accuracy: 0.8369\n",
      "Epoch 2 - Train Accuracy: 0.8434\n",
      "Test Accuracy: 0.8616\n"
     ]
    }
   ],
   "source": [
    "### YOUR CODE HERE ###\n",
    "model = LinearModel().to(device)\n",
    "optimizer = torch.optim.SGD(model.parameters(), lr=1e-1, momentum=0.9)\n",
    "\n",
    "for epoch in range(NUM_EPOCH):\n",
    "    optimizer, train_accuracy = train(model, epoch, preprocess, optimizer)\n",
    "    test_accuracy = test(model, preprocess)"
   ]
  },
  {
   "cell_type": "code",
   "execution_count": 225,
   "id": "6e4737b5",
   "metadata": {},
   "outputs": [
    {
     "name": "stdout",
     "output_type": "stream",
     "text": [
      "Epoch 1 - Train Accuracy: 0.8521\n",
      "Test Accuracy: 0.8911\n",
      "Epoch 2 - Train Accuracy: 0.8859\n",
      "Test Accuracy: 0.8991\n"
     ]
    }
   ],
   "source": [
    "# test with another optimizer\n",
    "model = LinearModel().to(device)\n",
    "optimizer = torch.optim.Adam(model.parameters(), lr=1e-1)\n",
    "\n",
    "for epoch in range(NUM_EPOCH):\n",
    "    optimizer, train_accuracy = train(model, epoch, preprocess, optimizer)\n",
    "    test_accuracy = test(model, preprocess)"
   ]
  },
  {
   "cell_type": "markdown",
   "id": "bf28bb4e-7178-4340-9247-f69591e86dcf",
   "metadata": {
    "id": "RrwYAMMBEUPN"
   },
   "source": [
    "## A.4 - Multi-layer perceptron (MLP)\n",
    "\n",
    "Create a class MLP that creates an MLP of given width and depth, and use it to create a 3-layer MLP of width $100$. We will assume that `width > 0` and `depth > 0`."
   ]
  },
  {
   "cell_type": "code",
   "execution_count": null,
   "id": "162125a5",
   "metadata": {},
   "outputs": [],
   "source": [
    "class MLP(torch.nn.Module):\n",
    "    def __init__(self, input_size: int, hidden_size: int, output_size: int):\n",
    "        super().__init__()\n",
    "        self.layer1 = nn.Linear(input_size, hidden_size)\n",
    "        self.layer2 = nn.Linear(hidden_size, hidden_size)\n",
    "        self.layer3 = nn.Linear(hidden_size, output_size)\n",
    "        self.relu = nn.ReLU()\n",
    "\n",
    "    def forward(self, x):\n",
    "        x = x.flatten(start_dim=1) \n",
    "        x = self.relu(self.layer1(x))\n",
    "        x = self.relu(self.layer2(x))\n",
    "        x = self.layer3(x)\n",
    "        return x"
   ]
  },
  {
   "cell_type": "code",
   "execution_count": 19,
   "id": "a6da47f3",
   "metadata": {},
   "outputs": [
    {
     "name": "stdout",
     "output_type": "stream",
     "text": [
      "Epoch 1 - Train Accuracy: 0.7425\n",
      "Test Accuracy: 0.9000\n",
      "Epoch 2 - Train Accuracy: 0.9061\n",
      "Test Accuracy: 0.9265\n"
     ]
    }
   ],
   "source": [
    "model_mlp = MLP(input_size=49, hidden_size=100, output_size=10).to(device)\n",
    "optimizer = torch.optim.SGD(model_mlp.parameters(), lr=1e-1, momentum=0.9)\n",
    "\n",
    "for epoch in range(NUM_EPOCH):\n",
    "    optimizer, train_accuracy = train(model_mlp, epoch, preprocess, optimizer)\n",
    "    test_accuracy = test(model_mlp, preprocess)"
   ]
  },
  {
   "cell_type": "markdown",
   "id": "76ca5a11-93e4-47ab-81f1-e4ee3cae45c9",
   "metadata": {
    "id": "v1czyC9R3z0R"
   },
   "source": [
    "# A.5 - Deep convolutional model\n",
    "\n",
    "Write a convolutional model, with learned features.\n",
    "Use two layers, one convolutional with 8 filters of size 3x3, then take a relu and max-pool with kernel size 2, and finally flatten and add a Linear layer. You can use the identity as pre-processing function."
   ]
  },
  {
   "cell_type": "markdown",
   "id": "4933e318-5521-4bf8-b011-bdb95ed0d8b0",
   "metadata": {},
   "source": [
    "\n",
    "Here is a little animation to remind you of the sliding window principle of convolutions.\n",
    "\n",
    "![conv](https://github.com//vdumoulin/conv_arithmetic/raw/master/gif/no_padding_no_strides.gif)"
   ]
  },
  {
   "cell_type": "code",
   "execution_count": null,
   "id": "8b343f97",
   "metadata": {},
   "outputs": [],
   "source": [
    "class ConvModel(nn.Module):\n",
    "    def __init__(self):\n",
    "        super(ConvModel, self).__init__()\n",
    "        self.layer1 = nn.Sequential(\n",
    "            nn.Conv2d(1, 8, kernel_size=3, stride=1, padding=1),\n",
    "            nn.ReLU(),\n",
    "            nn.MaxPool2d(kernel_size=2, stride=2)\n",
    "        )\n",
    "        self.classifier = nn.Linear(8 * 14 * 14, 10)\n",
    "        \n",
    "    def forward(self, x):\n",
    "        out = self.layer1(x)\n",
    "        out = out.flatten(start_dim=1)\n",
    "        out = self.classifier(out)\n",
    "        return out"
   ]
  },
  {
   "cell_type": "code",
   "execution_count": 33,
   "id": "4f8b89cf",
   "metadata": {},
   "outputs": [
    {
     "name": "stdout",
     "output_type": "stream",
     "text": [
      "Epoch 1 - Train Accuracy: 0.9125\n",
      "Test Accuracy: 0.9681\n",
      "Epoch 2 - Train Accuracy: 0.9716\n",
      "Test Accuracy: 0.9771\n"
     ]
    }
   ],
   "source": [
    "model_cnn = ConvModel().to(device)\n",
    "optimizer = torch.optim.SGD(model_cnn.parameters(), lr=1e-1, momentum=0.9)\n",
    "preprocess = lambda x: x # il y a déjà un maxpool2d\n",
    "\n",
    "for epoch in range(NUM_EPOCH):\n",
    "    optimizer, train_accuracy = train(model_cnn, epoch, preprocess, optimizer)\n",
    "    test_accuracy = test(model_cnn, preprocess)"
   ]
  },
  {
   "cell_type": "code",
   "execution_count": 37,
   "id": "d898a2f5",
   "metadata": {},
   "outputs": [
    {
     "name": "stdout",
     "output_type": "stream",
     "text": [
      "Epoch 1 - Train Accuracy: 0.9118\n",
      "Test Accuracy: 0.9688\n",
      "Epoch 2 - Train Accuracy: 0.9700\n",
      "Test Accuracy: 0.9791\n",
      "Epoch 3 - Train Accuracy: 0.9769\n",
      "Test Accuracy: 0.9771\n",
      "Epoch 4 - Train Accuracy: 0.9804\n",
      "Test Accuracy: 0.9799\n",
      "Epoch 5 - Train Accuracy: 0.9823\n",
      "Test Accuracy: 0.9793\n",
      "Epoch 6 - Train Accuracy: 0.9830\n",
      "Test Accuracy: 0.9793\n",
      "Epoch 7 - Train Accuracy: 0.9854\n",
      "Test Accuracy: 0.9799\n",
      "Epoch 8 - Train Accuracy: 0.9857\n",
      "Test Accuracy: 0.9791\n"
     ]
    }
   ],
   "source": [
    "NUM_EPOCH = 8\n",
    "\n",
    "model_cnn = ConvModel().to(device)\n",
    "optimizer = torch.optim.SGD(model_cnn.parameters(), lr=1e-1, momentum=0.9)\n",
    "preprocess = lambda x: x # il y a déjà un maxpool2d\n",
    "\n",
    "for epoch in range(NUM_EPOCH):\n",
    "    optimizer, train_accuracy = train(model_cnn, epoch, preprocess, optimizer)\n",
    "    test_accuracy = test(model_cnn, preprocess)"
   ]
  },
  {
   "cell_type": "markdown",
   "id": "40ee180a",
   "metadata": {},
   "source": [
    "A slight overfitting is observed starting from the fourth epoch, as the training accuracy keeps increasing while the test accuracy plateaus around 97.9%."
   ]
  },
  {
   "cell_type": "markdown",
   "id": "a0313eed-03ad-461d-9ddb-bb690c631149",
   "metadata": {
    "id": "pbQ1LUqf3z0R"
   },
   "source": [
    "You should be able to get around 97\\% to 98\\% accuracy with this model. Try increasing the NUM_EPOCH constant and watch what happens to test accuracy and train accuracy as training progresses further.\n",
    "\n",
    "Write a deeper convolutional model, with one convolutional layer as previously, but three linear layers with relu activations after that.\n",
    "Use `h = 100` hidden neurons. How does the test accuracy compare with the previous two-layer network ?"
   ]
  },
  {
   "cell_type": "code",
   "execution_count": 38,
   "id": "792791e1-0514-4749-a3fb-d27eb10a1bd2",
   "metadata": {
    "id": "YM-OhC123z0R"
   },
   "outputs": [],
   "source": [
    "class ConvDeepModel(torch.nn.Module):\n",
    "    def __init__(self, h=100):\n",
    "        super(ConvDeepModel, self).__init__()\n",
    "        self.layer1 = nn.Sequential(\n",
    "            nn.Conv2d(1, 8, kernel_size=3, stride=1, padding=1),\n",
    "            nn.ReLU(),\n",
    "            nn.MaxPool2d(kernel_size=2, stride=2)\n",
    "        )\n",
    "        self.classifier = nn.Sequential(\n",
    "            nn.Linear(8 * 14 * 14, h),\n",
    "            nn.ReLU(),\n",
    "            nn.Linear(h, h),\n",
    "            nn.ReLU(),\n",
    "            nn.Linear(h, 10)\n",
    "        )\n",
    "\n",
    "    def forward(self,x):\n",
    "        out = self.layer1(x)\n",
    "        out = out.flatten(start_dim=1)\n",
    "        out = self.classifier(out)\n",
    "        return out"
   ]
  },
  {
   "cell_type": "code",
   "execution_count": 40,
   "id": "ba9cfaea",
   "metadata": {},
   "outputs": [
    {
     "name": "stdout",
     "output_type": "stream",
     "text": [
      "Epoch 1 - Train Accuracy: 0.8514\n",
      "Test Accuracy: 0.9592\n",
      "Epoch 2 - Train Accuracy: 0.9721\n",
      "Test Accuracy: 0.9767\n"
     ]
    }
   ],
   "source": [
    "NUM_EPOCH = 2\n",
    "\n",
    "model_deep_cnn = ConvDeepModel().to(device)\n",
    "optimizer = torch.optim.SGD(model_deep_cnn.parameters(), lr=1e-1, momentum=0.9)\n",
    "preprocess = lambda x: x\n",
    "\n",
    "for epoch in range(NUM_EPOCH):\n",
    "    optimizer, train_accuracy = train(model_deep_cnn, epoch, preprocess, optimizer)\n",
    "    test_accuracy = test(model_deep_cnn, preprocess)"
   ]
  },
  {
   "cell_type": "code",
   "execution_count": 41,
   "id": "edd32203",
   "metadata": {},
   "outputs": [
    {
     "name": "stdout",
     "output_type": "stream",
     "text": [
      "Epoch 1 - Train Accuracy: 0.8602\n",
      "Test Accuracy: 0.9517\n",
      "Epoch 2 - Train Accuracy: 0.9668\n",
      "Test Accuracy: 0.9717\n",
      "Epoch 3 - Train Accuracy: 0.9777\n",
      "Test Accuracy: 0.9771\n",
      "Epoch 4 - Train Accuracy: 0.9837\n",
      "Test Accuracy: 0.9766\n",
      "Epoch 5 - Train Accuracy: 0.9872\n",
      "Test Accuracy: 0.9839\n",
      "Epoch 6 - Train Accuracy: 0.9888\n",
      "Test Accuracy: 0.9812\n",
      "Epoch 7 - Train Accuracy: 0.9918\n",
      "Test Accuracy: 0.9845\n",
      "Epoch 8 - Train Accuracy: 0.9930\n",
      "Test Accuracy: 0.9851\n"
     ]
    }
   ],
   "source": [
    "NUM_EPOCH = 8\n",
    "\n",
    "model_deep_cnn = ConvDeepModel().to(device)\n",
    "optimizer = torch.optim.SGD(model_deep_cnn.parameters(), lr=1e-1, momentum=0.9)\n",
    "preprocess = lambda x: x\n",
    "\n",
    "for epoch in range(NUM_EPOCH):\n",
    "    optimizer, train_accuracy = train(model_deep_cnn, epoch, preprocess, optimizer)\n",
    "    test_accuracy = test(model_deep_cnn, preprocess)"
   ]
  },
  {
   "cell_type": "markdown",
   "id": "85c12994",
   "metadata": {},
   "source": [
    "Compared to the simple convolutional model, the deeper convolutional model achieves a slightly higher test accuracy, reaching up to 98.5%. However, it also shows more signs of overfitting after several epochs, with training accuracy exceeding 99%. Overall, the deeper model provides better learning capacity but also requires careful monitoring to avoid overfitting."
   ]
  },
  {
   "cell_type": "markdown",
   "id": "46fd763b-b36a-461c-ad34-f472e62ce46d",
   "metadata": {},
   "source": [
    "## A.6 Visualisations of convolutions\n",
    "\n",
    "After training your model, let's see what features it has learned!\n",
    "\n",
    "Plot an image from the test set then plot all 8 feature maps extracted by the convolutional layer"
   ]
  },
  {
   "cell_type": "code",
   "execution_count": 43,
   "id": "0e5284c2-4210-4ccc-bf05-5e722bdabf63",
   "metadata": {},
   "outputs": [
    {
     "data": {
      "image/png": "[encoded data removed]",
      "text/plain": [
       "<Figure size 2000x500 with 9 Axes>"
      ]
     },
     "metadata": {},
     "output_type": "display_data"
    }
   ],
   "source": [
    "### YOUR CODE HERE ###\n",
    "test_iter = iter(test_dataloader)\n",
    "images, labels = next(test_iter)\n",
    "\n",
    "image = images[0].unsqueeze(0).to(device)\n",
    "\n",
    "cnn_layer = model_cnn.layer1\n",
    "with torch.no_grad():\n",
    "    features = cnn_layer(image)\n",
    "\n",
    "fig, axes = plt.subplots(1, 9, figsize=(20, 5))\n",
    "\n",
    "axes[0].imshow(image.cpu().squeeze(), cmap='gray')\n",
    "axes[0].set_title('Original')\n",
    "axes[0].axis('off')\n",
    "\n",
    "for i in range(8):\n",
    "    axes[i+1].imshow(features[0,i].cpu(), cmap='gray')\n",
    "    axes[i+1].set_title(f'Feature {i+1}')\n",
    "    axes[i+1].axis('off')\n",
    "\n",
    "plt.show()"
   ]
  },
  {
   "cell_type": "markdown",
   "id": "dc457ad1-3240-4ffb-a8f3-98c6554dfce5",
   "metadata": {
    "id": "riu_K1at3z0R"
   },
   "source": [
    "# Part B - Residual models\n",
    "\n",
    "## B.1 - Residual blocks\n",
    "\n",
    "Write a residual block with two linear layers to learn a function $\\mathbb{R}^d \\to \\mathbb{R}^d$ with $h < d$ hidden neurons.\n",
    "Write a convolutional residual block with the same idea. What hyperparameter acts as the number of hidden neurons in convolutional blocks ?"
   ]
  },
  {
   "cell_type": "code",
   "execution_count": null,
   "id": "aec298d4-4372-4a1f-be53-a278d051c0f6",
   "metadata": {
    "id": "gkCILVwd3z0R"
   },
   "outputs": [],
   "source": [
    "class ResidualBlock(torch.nn.Module):\n",
    "    def __init__(self, d, h):\n",
    "        super(ResidualBlock, self).__init__()\n",
    "        ### YOUR CODE HERE ###\n",
    "\n",
    "    def forward(self,x):\n",
    "        ### YOUR CODE HERE ###\n",
    "        pass"
   ]
  },
  {
   "cell_type": "markdown",
   "id": "8cc0097d-269c-40f4-b182-bdc79bd5c512",
   "metadata": {
    "id": "huKWOvVc3z0S"
   },
   "source": [
    "## B.2 - Stacking residual blocks\n",
    "\n",
    "Use a single convolution layer, followed by a relu and max-pool, then an arbitrary number of residual blocks as defined above, and finish with a linear layer. Can you match the accuracy of the two-layer network ? Can you exceed it ? What happens when you increase the number of layers ? Look at the details of the ResNet architecture on the lecture's slides to get an idea of how to increase the number of hidden neurons and the number of layers. One of the strengths of ResNets was there relatively low number of parameters compared\n",
    "to a multi-layer architecture like that of the previous section, does this show in your experiments ?"
   ]
  },
  {
   "cell_type": "code",
   "execution_count": null,
   "id": "bf0d4de4-11e8-490c-8262-064b3e841fa5",
   "metadata": {
    "id": "U4gg9uWg3z0S"
   },
   "outputs": [],
   "source": [
    "class ResidualModel(torch.nn.Module):\n",
    "    def __init__(self, l, h, k=3, out=8):\n",
    "        super(ResidualModel, self).__init__()\n",
    "        ### YOUR CODE HERE ###\n",
    "\n",
    "    def forward(self,x):\n",
    "        ### YOUR CODE HERE ###\n",
    "        pass"
   ]
  },
  {
   "cell_type": "markdown",
   "id": "df418703-b1e1-4276-8ba7-dd5622c7b7cd",
   "metadata": {
    "id": "2nes_ZtBoBu0"
   },
   "source": [
    "# Part C - Reimplementing loss functions\n",
    "\n",
    "## C.0 - Combining losses\n",
    "First, we recall that, for a batch of score vectors $s\\in\\mathbb{R}^{n\\times C}$ and true labels $y\\in[1,C]^n$, **cross entropy** is defined as\n",
    "$$CE(s, y) = -\\frac{1}{n}\\sum_{i=1}^n \\log\\left( \\mbox{softmax}(s_i)_{y_i} \\right)$$\n",
    "\n",
    "where $\\mbox{softmax}(x)_i = \\frac{e^{x_i}}{\\sum_{j=1}^n e^{x_j}}$ is the probability associated to class $i\\in[1,C]$ for a score vector $x\\in\\mathbb{R}^C$.\n",
    "\n",
    "Let's try to compute cross-entropy in three different ways (see the [documentation](https://pytorch.org/docs/stable/generated/torch.nn.CrossEntropyLoss.html)):\n",
    "1. Using `nn.CrossEntropyLoss()`.\n",
    "2. Using `nn.NLLLoss()` and `nn.LogSoftmax()`.\n",
    "3. Using `nn.NLLLoss()` and `nn.Softmax()`.\n",
    "\n",
    "Check that the output is the same for all three methods on Gaussian random scores `torch.randn(n_batch, n_classes)` and random labels `torch.randint(0, n_classes, [n_batch])`, where `n_batch=4` and `n_classes=10`. Note that the scores are real valued vectors while the labels are integers corresponding to the true class."
   ]
  },
  {
   "cell_type": "code",
   "execution_count": 24,
   "id": "e1b6c172",
   "metadata": {
    "id": "e1b6c172"
   },
   "outputs": [],
   "source": [
    "### YOUR CODE HERE ###"
   ]
  },
  {
   "cell_type": "markdown",
   "id": "bba900c6-f7b2-4179-a2f1-f1eede4b6697",
   "metadata": {
    "id": "TWKaTBVd5ftN"
   },
   "source": [
    "## C.1 - Re-implementation\n",
    "Now re-implement cross-entropy using base functions (`torch.log`, `torch.exp`, `torch.sum`, etc...). Verify that your function returns the same value as Pytorch's implementation."
   ]
  },
  {
   "cell_type": "code",
   "execution_count": 25,
   "id": "EfA-3-E7qwgF",
   "metadata": {
    "id": "EfA-3-E7qwgF"
   },
   "outputs": [],
   "source": [
    "def ce(logits, targets):\n",
    "    ### YOUR CODE HERE ###\n",
    "    pass"
   ]
  },
  {
   "cell_type": "markdown",
   "id": "011ec13a-330a-4073-99b9-2eb9dd42d1f8",
   "metadata": {
    "id": "OFG0QfKN7WtO"
   },
   "source": [
    "## C.2 - Stability analysis\n",
    "Softmax probabilities can be relatively unstable due to their use of exponentials. Pytorch implementations thus usually use log probas or logits to avoid overflows or floating point errors. Test all methods (including your own) on Gaussian random scores of standard deviation equal to $100$. Which methods are stable? Why? Is it an issue in practice?"
   ]
  },
  {
   "cell_type": "code",
   "execution_count": 26,
   "id": "741771f5-864d-446a-b654-3b4f5a2598ca",
   "metadata": {},
   "outputs": [],
   "source": [
    "### YOUR CODE HERE ###"
   ]
  },
  {
   "cell_type": "markdown",
   "id": "5ecaaf7c-b21f-4e18-ac53-1a77adbc60bf",
   "metadata": {
    "id": "Y3y4BfwbBIGy"
   },
   "source": [
    "Re-implement a stable version of cross-entropy."
   ]
  },
  {
   "cell_type": "code",
   "execution_count": 27,
   "id": "83d00dab-a37e-48da-880f-81f10efdc133",
   "metadata": {},
   "outputs": [],
   "source": [
    "def stable_ce(logits, targets):\n",
    "    ### YOUR CODE HERE ###\n",
    "    pass"
   ]
  }
 ],
 "metadata": {
  "kernelspec": {
   "display_name": "Python 3",
   "language": "python",
   "name": "python3"
  },
  "language_info": {
   "codemirror_mode": {
    "name": "ipython",
    "version": 3
   },
   "file_extension": ".py",
   "mimetype": "text/x-python",
   "name": "python",
   "nbconvert_exporter": "python",
   "pygments_lexer": "ipython3",
   "version": "3.12.9"
  }
 },
 "nbformat": 4,
 "nbformat_minor": 5
}
